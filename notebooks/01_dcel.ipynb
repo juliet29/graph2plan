{
 "cells": [
  {
   "cell_type": "code",
   "execution_count": 1,
   "metadata": {},
   "outputs": [
    {
     "name": "stderr",
     "output_type": "stream",
     "text": [
      "No traceback available to show.\n"
     ]
    }
   ],
   "source": [
    "%load_ext autoreload\n",
    "%autoreload 2\n",
    "%tb"
   ]
  },
  {
   "cell_type": "code",
   "execution_count": 56,
   "metadata": {},
   "outputs": [],
   "source": [
    "import networkx as nx\n",
    "from graph2plan.dcel.create import create_embedding_simple\n",
    "from sympy import Line, Point, sqrt"
   ]
  },
  {
   "cell_type": "code",
   "execution_count": 3,
   "metadata": {},
   "outputs": [
    {
     "data": {
      "image/svg+xml": [
       "<svg xmlns=\"http://www.w3.org/2000/svg\"\n",
       "            xmlns:xlink=\"http://www.w3.org/1999/xlink\"\n",
       "            width=\"100.0\" height=\"100.0\" viewBox=\"-0.100000000000000 -0.100000000000000 1.20000000000000 0.200000000000000\"\n",
       "            preserveAspectRatio=\"xMinYMin meet\">\n",
       "            <defs>\n",
       "                <marker id=\"markerCircle\" markerWidth=\"8\" markerHeight=\"8\"\n",
       "                    refx=\"5\" refy=\"5\" markerUnits=\"strokeWidth\">\n",
       "                    <circle cx=\"5\" cy=\"5\" r=\"1.5\" style=\"stroke: none; fill:#000000;\"/>\n",
       "                </marker>\n",
       "                <marker id=\"markerArrow\" markerWidth=\"13\" markerHeight=\"13\" refx=\"2\" refy=\"4\"\n",
       "                       orient=\"auto\" markerUnits=\"strokeWidth\">\n",
       "                    <path d=\"M2,2 L2,6 L6,4\" style=\"fill: #000000;\" />\n",
       "                </marker>\n",
       "                <marker id=\"markerReverseArrow\" markerWidth=\"13\" markerHeight=\"13\" refx=\"6\" refy=\"4\"\n",
       "                       orient=\"auto\" markerUnits=\"strokeWidth\">\n",
       "                    <path d=\"M6,2 L6,6 L2,4\" style=\"fill: #000000;\" />\n",
       "                </marker>\n",
       "            </defs><g transform=\"matrix(1,0,0,-1,0,0)\"><path fill-rule=\"evenodd\" fill=\"#66cc99\" stroke=\"#555555\" stroke-width=\"0.0240000000000000\" opacity=\"0.6\" d=\"M 0,0 L 1.00000000000000,0\" marker-start=\"url(#markerReverseArrow)\" marker-end=\"url(#markerArrow)\"/></g></svg>"
      ],
      "text/latex": [
       "$\\displaystyle \\operatorname{Line2D}\\left(\\operatorname{Point2D}\\left(0, 0\\right), \\operatorname{Point2D}\\left(1, 0\\right)\\right)$"
      ],
      "text/plain": [
       "Line2D(Point2D(0, 0), Point2D(1, 0))"
      ]
     },
     "execution_count": 3,
     "metadata": {},
     "output_type": "execute_result"
    }
   ],
   "source": [
    "base = (0,0)\n",
    "top = (0,1)\n",
    "bottom = (0,-1)\n",
    "side = (1,0)\n",
    "\n",
    "ltop = Line(base, top)\n",
    "lbottom = Line(base, bottom)\n",
    "lbase = Line(base, side)\n",
    "lbase"
   ]
  },
  {
   "cell_type": "code",
   "execution_count": 62,
   "metadata": {},
   "outputs": [
    {
     "data": {
      "image/svg+xml": [
       "<svg xmlns=\"http://www.w3.org/2000/svg\"\n",
       "            xmlns:xlink=\"http://www.w3.org/1999/xlink\"\n",
       "            width=\"100.0\" height=\"100.0\" viewBox=\"-0.777817459305202 -0.777817459305202 0.848528137423857 0.848528137423857\"\n",
       "            preserveAspectRatio=\"xMinYMin meet\">\n",
       "            <defs>\n",
       "                <marker id=\"markerCircle\" markerWidth=\"8\" markerHeight=\"8\"\n",
       "                    refx=\"5\" refy=\"5\" markerUnits=\"strokeWidth\">\n",
       "                    <circle cx=\"5\" cy=\"5\" r=\"1.5\" style=\"stroke: none; fill:#000000;\"/>\n",
       "                </marker>\n",
       "                <marker id=\"markerArrow\" markerWidth=\"13\" markerHeight=\"13\" refx=\"2\" refy=\"4\"\n",
       "                       orient=\"auto\" markerUnits=\"strokeWidth\">\n",
       "                    <path d=\"M2,2 L2,6 L6,4\" style=\"fill: #000000;\" />\n",
       "                </marker>\n",
       "                <marker id=\"markerReverseArrow\" markerWidth=\"13\" markerHeight=\"13\" refx=\"6\" refy=\"4\"\n",
       "                       orient=\"auto\" markerUnits=\"strokeWidth\">\n",
       "                    <path d=\"M6,2 L6,6 L2,4\" style=\"fill: #000000;\" />\n",
       "                </marker>\n",
       "            </defs><g transform=\"matrix(1,0,0,-1,0,-0.707106781186548)\"><path fill-rule=\"evenodd\" fill=\"#66cc99\" stroke=\"#555555\" stroke-width=\"0.0169705627484771\" opacity=\"0.6\" d=\"M 0,0 L -0.707106781186548,-0.707106781186548\" marker-start=\"url(#markerReverseArrow)\" marker-end=\"url(#markerArrow)\"/></g></svg>"
      ],
      "text/latex": [
       "$\\displaystyle \\operatorname{Line2D}\\left(\\operatorname{Point2D}\\left(0, 0\\right), \\operatorname{Point2D}\\left(- \\frac{\\sqrt{2}}{2}, - \\frac{\\sqrt{2}}{2}\\right)\\right)$"
      ],
      "text/plain": [
       "Line2D(Point2D(0, 0), Point2D(-sqrt(2)/2, -sqrt(2)/2))"
      ]
     },
     "execution_count": 62,
     "metadata": {},
     "output_type": "execute_result"
    }
   ],
   "source": [
    "q = (sqrt(2)/2)\n",
    "h = 1/2\n",
    "q2 = (-q, q)\n",
    "q3 = (-q,-q)\n",
    "lq2 = Line(base, q2)\n",
    "lq3 = Line(base, q3)\n",
    "lq3"
   ]
  },
  {
   "cell_type": "code",
   "execution_count": 63,
   "metadata": {},
   "outputs": [
    {
     "data": {
      "text/latex": [
       "$\\displaystyle \\frac{3 \\pi}{4}$"
      ],
      "text/plain": [
       "3*pi/4"
      ]
     },
     "execution_count": 63,
     "metadata": {},
     "output_type": "execute_result"
    }
   ],
   "source": [
    "lbase.angle_between(lq2)"
   ]
  },
  {
   "cell_type": "code",
   "execution_count": 64,
   "metadata": {},
   "outputs": [
    {
     "data": {
      "text/latex": [
       "$\\displaystyle \\frac{3 \\pi}{4}$"
      ],
      "text/plain": [
       "3*pi/4"
      ]
     },
     "execution_count": 64,
     "metadata": {},
     "output_type": "execute_result"
    }
   ],
   "source": [
    "lbase.angle_between(lq3)"
   ]
  },
  {
   "cell_type": "code",
   "execution_count": 65,
   "metadata": {},
   "outputs": [
    {
     "data": {
      "text/latex": [
       "$\\displaystyle \\frac{\\pi}{4}$"
      ],
      "text/plain": [
       "pi/4"
      ]
     },
     "execution_count": 65,
     "metadata": {},
     "output_type": "execute_result"
    }
   ],
   "source": [
    "lbase.smallest_angle_between(lq3)"
   ]
  },
  {
   "cell_type": "code",
   "execution_count": 53,
   "metadata": {},
   "outputs": [
    {
     "data": {
      "text/latex": [
       "$\\displaystyle \\frac{\\pi}{2}$"
      ],
      "text/plain": [
       "pi/2"
      ]
     },
     "execution_count": 53,
     "metadata": {},
     "output_type": "execute_result"
    }
   ],
   "source": [
    "lbase.angle_between(lbottom)"
   ]
  },
  {
   "cell_type": "code",
   "execution_count": 5,
   "metadata": {},
   "outputs": [
    {
     "data": {
      "text/plain": [
       "-1"
      ]
     },
     "execution_count": 5,
     "metadata": {},
     "output_type": "execute_result"
    }
   ],
   "source": [
    "assert lbase\n",
    "assert ltop\n",
    "(lbase.points[0]).compare(lbase.points[1])"
   ]
  },
  {
   "cell_type": "code",
   "execution_count": 6,
   "metadata": {},
   "outputs": [
    {
     "data": {
      "text/latex": [
       "$\\displaystyle \\pi$"
      ],
      "text/plain": [
       "pi"
      ]
     },
     "execution_count": 6,
     "metadata": {},
     "output_type": "execute_result"
    }
   ],
   "source": [
    "lbottom.angle_between(ltop)"
   ]
  },
  {
   "cell_type": "code",
   "execution_count": 66,
   "metadata": {},
   "outputs": [
    {
     "data": {
      "text/latex": [
       "$\\displaystyle 0$"
      ],
      "text/plain": [
       "0"
      ]
     },
     "execution_count": 66,
     "metadata": {},
     "output_type": "execute_result"
    }
   ],
   "source": [
    "lbottom.angle_between(lbottom)"
   ]
  },
  {
   "cell_type": "code",
   "execution_count": 7,
   "metadata": {},
   "outputs": [
    {
     "data": {
      "text/latex": [
       "$\\displaystyle \\pi$"
      ],
      "text/plain": [
       "pi"
      ]
     },
     "execution_count": 7,
     "metadata": {},
     "output_type": "execute_result"
    }
   ],
   "source": [
    "ltop.angle_between(lbottom)"
   ]
  },
  {
   "cell_type": "code",
   "execution_count": 8,
   "metadata": {},
   "outputs": [
    {
     "data": {
      "text/latex": [
       "$\\displaystyle \\frac{\\pi}{2}$"
      ],
      "text/plain": [
       "pi/2"
      ]
     },
     "execution_count": 8,
     "metadata": {},
     "output_type": "execute_result"
    }
   ],
   "source": [
    "lbase.angle_between(lbottom)"
   ]
  },
  {
   "cell_type": "code",
   "execution_count": 38,
   "metadata": {},
   "outputs": [
    {
     "data": {
      "image/png": "[encoded data removed]",
      "text/plain": [
       "<Figure size 640x480 with 1 Axes>"
      ]
     },
     "metadata": {},
     "output_type": "display_data"
    }
   ],
   "source": [
    "H = nx.grid_2d_graph(2,3)\n",
    "pos = {i:i for i in H.nodes}\n",
    "r = nx.draw_networkx(H, pos)"
   ]
  },
  {
   "cell_type": "code",
   "execution_count": 28,
   "metadata": {},
   "outputs": [
    {
     "data": {
      "text/plain": [
       "False"
      ]
     },
     "execution_count": 28,
     "metadata": {},
     "output_type": "execute_result"
    }
   ],
   "source": [
    "not True"
   ]
  },
  {
   "cell_type": "code",
   "execution_count": 67,
   "metadata": {},
   "outputs": [
    {
     "name": "stdout",
     "output_type": "stream",
     "text": [
      "\n",
      "4 - before_nbs of (0, 1): [(1, 1), (0, 0)]\n",
      "edge: (((0, 1), (0, 2)), ((0, 1), (0, 0))) -- small_angle: 0, angle: pi\n",
      "edge: (((0, 1), (0, 2)), ((0, 1), (1, 1))) -- small_angle: pi/2, angle: pi/2\n",
      "edge: ((0, 1), (0, 2)), type: 4, curr_nbs: [(0, 2), (1, 1), (0, 0)]\n",
      "\n",
      "4 - before_nbs of (1, 1): [(1, 0), (0, 1)]\n",
      "edge: (((1, 1), (1, 2)), ((1, 1), (0, 1))) -- small_angle: pi/2, angle: pi/2\n",
      "edge: (((1, 1), (1, 2)), ((1, 1), (1, 0))) -- small_angle: 0, angle: pi\n",
      "edge: ((1, 1), (1, 2)), type: 4, curr_nbs: [(1, 0), (0, 1), (1, 2)]\n"
     ]
    }
   ],
   "source": [
    "e = create_embedding_simple(H, pos)"
   ]
  },
  {
   "cell_type": "code",
   "execution_count": 40,
   "metadata": {},
   "outputs": [
    {
     "data": {
      "image/png": "[encoded data removed]",
      "text/plain": [
       "<Figure size 640x480 with 1 Axes>"
      ]
     },
     "metadata": {},
     "output_type": "display_data"
    }
   ],
   "source": [
    "nx.draw_networkx(e.to_directed(), pos)"
   ]
  },
  {
   "cell_type": "code",
   "execution_count": 43,
   "metadata": {},
   "outputs": [
    {
     "data": {
      "text/plain": [
       "[(1, 0), (1, 2), (0, 1)]"
      ]
     },
     "execution_count": 43,
     "metadata": {},
     "output_type": "execute_result"
    }
   ],
   "source": [
    "v = (1,1)\n",
    "list(e.neighbors_cw_order(v))"
   ]
  },
  {
   "cell_type": "code",
   "execution_count": 68,
   "metadata": {},
   "outputs": [],
   "source": [
    "e.check_structure()"
   ]
  },
  {
   "cell_type": "code",
   "execution_count": null,
   "metadata": {},
   "outputs": [
    {
     "data": {
      "text/plain": [
       "[(1, 0), (1, 2), (0, 1)]"
      ]
     },
     "execution_count": 42,
     "metadata": {},
     "output_type": "execute_result"
    }
   ],
   "source": []
  },
  {
   "cell_type": "code",
   "execution_count": 79,
   "metadata": {},
   "outputs": [
    {
     "data": {
      "text/plain": [
       "<dict_keyiterator at 0x10f482ac0>"
      ]
     },
     "execution_count": 79,
     "metadata": {},
     "output_type": "execute_result"
    }
   ],
   "source": [
    "e.successors(v)"
   ]
  },
  {
   "cell_type": "code",
   "execution_count": 78,
   "metadata": {},
   "outputs": [
    {
     "data": {
      "text/plain": [
       "[(1, 1), (0, 2), (0, 0)]"
      ]
     },
     "execution_count": 78,
     "metadata": {},
     "output_type": "execute_result"
    }
   ],
   "source": [
    "v = (0,1)\n",
    "list(e.neighbors_cw_order(v))"
   ]
  },
  {
   "cell_type": "code",
   "execution_count": 74,
   "metadata": {},
   "outputs": [
    {
     "data": {
      "text/plain": [
       "[(0, 1),\n",
       " (0, 0),\n",
       " (1, 0),\n",
       " (1, 1),\n",
       " (0, 1),\n",
       " (0, 2),\n",
       " (1, 2),\n",
       " (1, 1),\n",
       " (1, 0),\n",
       " (0, 0),\n",
       " (0, 1),\n",
       " (1, 1),\n",
       " (1, 2),\n",
       " (0, 2)]"
      ]
     },
     "execution_count": 74,
     "metadata": {},
     "output_type": "execute_result"
    }
   ],
   "source": [
    "\n",
    "e.traverse_face((0,1), (0,0))"
   ]
  },
  {
   "cell_type": "code",
   "execution_count": 40,
   "metadata": {},
   "outputs": [
    {
     "data": {
      "text/plain": [
       "[(0, 2),\n",
       " (1, 2),\n",
       " (1, 1),\n",
       " (1, 0),\n",
       " (0, 0),\n",
       " (0, 1),\n",
       " (1, 1),\n",
       " (1, 2),\n",
       " (0, 2),\n",
       " (0, 1),\n",
       " (0, 0),\n",
       " (1, 0),\n",
       " (1, 1),\n",
       " (0, 1)]"
      ]
     },
     "execution_count": 40,
     "metadata": {},
     "output_type": "execute_result"
    }
   ],
   "source": [
    "e.traverse_face((0,2), (1,2))"
   ]
  },
  {
   "cell_type": "code",
   "execution_count": 43,
   "metadata": {},
   "outputs": [
    {
     "data": {
      "text/plain": [
       "True"
      ]
     },
     "execution_count": 43,
     "metadata": {},
     "output_type": "execute_result"
    }
   ],
   "source": [
    "sorted(e.traverse_face((0,0), (0,1))) == sorted(e.traverse_face((0,1), (0,0)))"
   ]
  },
  {
   "cell_type": "code",
   "execution_count": 35,
   "metadata": {},
   "outputs": [
    {
     "ename": "NetworkXException",
     "evalue": "Bad embedding. The graph does not match Euler's formula",
     "output_type": "error",
     "traceback": [
      "\u001b[31m---------------------------------------------------------------------------\u001b[39m",
      "\u001b[31mNetworkXException\u001b[39m                         Traceback (most recent call last)",
      "\u001b[36mCell\u001b[39m\u001b[36m \u001b[39m\u001b[32mIn[35]\u001b[39m\u001b[32m, line 1\u001b[39m\n\u001b[32m----> \u001b[39m\u001b[32m1\u001b[39m \u001b[43me\u001b[49m\u001b[43m.\u001b[49m\u001b[43mcheck_structure\u001b[49m\u001b[43m(\u001b[49m\u001b[43m)\u001b[49m\n",
      "\u001b[36mFile \u001b[39m\u001b[32m~/_UILCode/gqe-phd/graph2plan/.venv/lib/python3.13/site-packages/networkx/algorithms/planarity.py:1139\u001b[39m, in \u001b[36mPlanarEmbedding.check_structure\u001b[39m\u001b[34m(self)\u001b[39m\n\u001b[32m   1136\u001b[39m \u001b[38;5;28;01mif\u001b[39;00m num_nodes - num_edges + num_faces != \u001b[32m2\u001b[39m:\n\u001b[32m   1137\u001b[39m     \u001b[38;5;66;03m# The result does not match Euler's formula\u001b[39;00m\n\u001b[32m   1138\u001b[39m     msg = \u001b[33m\"\u001b[39m\u001b[33mBad embedding. The graph does not match Euler\u001b[39m\u001b[33m'\u001b[39m\u001b[33ms formula\u001b[39m\u001b[33m\"\u001b[39m\n\u001b[32m-> \u001b[39m\u001b[32m1139\u001b[39m     \u001b[38;5;28;01mraise\u001b[39;00m nx.NetworkXException(msg)\n",
      "\u001b[31mNetworkXException\u001b[39m: Bad embedding. The graph does not match Euler's formula"
     ]
    }
   ],
   "source": [
    "e.check_structure()"
   ]
  },
  {
   "cell_type": "code",
   "execution_count": 34,
   "metadata": {},
   "outputs": [
    {
     "data": {
      "image/png": "[encoded data removed]",
      "text/plain": [
       "<Figure size 640x480 with 1 Axes>"
      ]
     },
     "metadata": {},
     "output_type": "display_data"
    }
   ],
   "source": [
    "nx.draw_networkx(e.to_directed(), pos)"
   ]
  },
  {
   "cell_type": "code",
   "execution_count": 69,
   "metadata": {},
   "outputs": [
    {
     "name": "stdout",
     "output_type": "stream",
     "text": [
      "\n",
      "4 - before_nbs of (0, 0, 0): [(0, 1, 0), (1, 0, 0)]\n",
      "edge: (((0, 0, 0), (0, 0, 1)), ((0, 0, 0), (1, 0, 0))) -- small_angle: pi/4, angle: pi/4\n",
      "edge: (((0, 0, 0), (0, 0, 1)), ((0, 0, 0), (0, 1, 0))) -- small_angle: acos(5*sqrt(34)/34), angle: acos(5*sqrt(34)/34)\n",
      "edge: ((0, 0, 0), (0, 0, 1)), type: 4, curr_nbs: [(0, 0, 1), (0, 1, 0), (1, 0, 0)]\n",
      "\n",
      "4 - before_nbs of (0, 0, 1): [(0, 0, 0), (1, 0, 1)]\n",
      "edge: (((0, 0, 1), (0, 1, 1)), ((0, 0, 1), (1, 0, 1))) -- small_angle: acos(3*sqrt(10)/10), angle: acos(-3*sqrt(10)/10)\n",
      "edge: (((0, 0, 1), (0, 1, 1)), ((0, 0, 1), (0, 0, 0))) -- small_angle: acos(3*sqrt(10)/10), angle: acos(3*sqrt(10)/10)\n",
      "edge: ((0, 0, 1), (0, 1, 1)), type: 4, curr_nbs: [(0, 1, 1), (0, 0, 0), (1, 0, 1)]\n",
      "\n",
      "4 - before_nbs of (0, 1, 0): [(1, 1, 0), (0, 0, 0)]\n",
      "edge: (((0, 1, 0), (0, 1, 1)), ((0, 1, 0), (0, 0, 0))) -- small_angle: acos(15/17), angle: acos(15/17)\n",
      "edge: (((0, 1, 0), (0, 1, 1)), ((0, 1, 0), (1, 1, 0))) -- small_angle: acos(5*sqrt(34)/34), angle: acos(-5*sqrt(34)/34)\n",
      "edge: ((0, 1, 0), (0, 1, 1)), type: 4, curr_nbs: [(1, 1, 0), (0, 0, 0), (0, 1, 1)]\n",
      "\n",
      "4 - before_nbs of (0, 1, 1): [(0, 0, 1), (0, 1, 0)]\n",
      "edge: (((0, 1, 1), (1, 1, 1)), ((0, 1, 1), (0, 1, 0))) -- small_angle: acos(11*sqrt(170)/170), angle: acos(11*sqrt(170)/170)\n",
      "edge: (((0, 1, 1), (1, 1, 1)), ((0, 1, 1), (0, 0, 1))) -- small_angle: pi/4, angle: pi/4\n",
      "edge: ((0, 1, 1), (1, 1, 1)), type: 4, curr_nbs: [(0, 0, 1), (1, 1, 1), (0, 1, 0)]\n",
      "\n",
      "4 - before_nbs of (1, 0, 0): [(0, 0, 0), (1, 1, 0)]\n",
      "edge: (((1, 0, 0), (1, 0, 1)), ((1, 0, 0), (1, 1, 0))) -- small_angle: acos(2*sqrt(5)/5), angle: acos(2*sqrt(5)/5)\n",
      "edge: (((1, 0, 0), (1, 0, 1)), ((1, 0, 0), (0, 0, 0))) -- small_angle: pi/4, angle: pi/4\n",
      "edge: ((1, 0, 0), (1, 0, 1)), type: 4, curr_nbs: [(0, 0, 0), (1, 1, 0), (1, 0, 1)]\n",
      "\n",
      "4 - before_nbs of (1, 0, 1): [(1, 0, 0), (0, 0, 1)]\n",
      "edge: (((1, 0, 1), (1, 1, 1)), ((1, 0, 1), (0, 0, 1))) -- small_angle: acos(sqrt(10)/10), angle: acos(sqrt(10)/10)\n",
      "edge: (((1, 0, 1), (1, 1, 1)), ((1, 0, 1), (1, 0, 0))) -- small_angle: acos(3*sqrt(10)/10), angle: acos(3*sqrt(10)/10)\n",
      "edge: ((1, 0, 1), (1, 1, 1)), type: 4, curr_nbs: [(1, 0, 0), (1, 1, 1), (0, 0, 1)]\n",
      "\n",
      "4 - before_nbs of (1, 1, 0): [(0, 1, 0), (1, 0, 0)]\n",
      "edge: (((1, 1, 0), (1, 1, 1)), ((1, 1, 0), (1, 0, 0))) -- small_angle: acos(9*sqrt(130)/130), angle: acos(-9*sqrt(130)/130)\n",
      "edge: (((1, 1, 0), (1, 1, 1)), ((1, 1, 0), (0, 1, 0))) -- small_angle: acos(5*sqrt(26)/26), angle: acos(5*sqrt(26)/26)\n",
      "edge: ((1, 1, 0), (1, 1, 1)), type: 4, curr_nbs: [(0, 1, 0), (1, 1, 1), (1, 0, 0)]\n",
      "\n",
      "4 - before_nbs of (1, 1, 1): [(0, 1, 1), (1, 0, 1)]\n",
      "edge: (((1, 1, 1), (1, 1, 0)), ((1, 1, 1), (1, 0, 1))) -- small_angle: acos(8*sqrt(65)/65), angle: acos(-8*sqrt(65)/65)\n",
      "edge: (((1, 1, 1), (1, 1, 0)), ((1, 1, 1), (0, 1, 1))) -- small_angle: acos(3*sqrt(130)/130), angle: acos(-3*sqrt(130)/130)\n",
      "edge: ((1, 1, 1), (1, 1, 0)), type: 4, curr_nbs: [(1, 1, 0), (0, 1, 1), (1, 0, 1)]\n"
     ]
    },
    {
     "data": {
      "image/png": "[encoded data removed]",
      "text/plain": [
       "<Figure size 640x480 with 1 Axes>"
      ]
     },
     "metadata": {},
     "output_type": "display_data"
    }
   ],
   "source": [
    "H = nx.hypercube_graph(3)\n",
    "pos = nx.planar_layout(H)\n",
    "nx.draw_networkx(H, pos)\n",
    "e = create_embedding_simple(H, pos)\n",
    "e.check_structure()"
   ]
  },
  {
   "cell_type": "code",
   "execution_count": 36,
   "metadata": {},
   "outputs": [],
   "source": [
    "e.check_structure()"
   ]
  },
  {
   "cell_type": "code",
   "execution_count": 37,
   "metadata": {},
   "outputs": [
    {
     "data": {
      "text/plain": [
       "[(0, 0, 1), (0, 1, 0), (1, 0, 0)]"
      ]
     },
     "execution_count": 37,
     "metadata": {},
     "output_type": "execute_result"
    }
   ],
   "source": [
    "v=(0,0,0)\n",
    "list(e.neighbors_cw_order(v))"
   ]
  },
  {
   "cell_type": "code",
   "execution_count": null,
   "metadata": {},
   "outputs": [],
   "source": [
    "v=(0,0,0)\n",
    "list(e.neighbors_cw_order(v))"
   ]
  },
  {
   "cell_type": "code",
   "execution_count": 12,
   "metadata": {},
   "outputs": [
    {
     "data": {
      "text/plain": [
       "[(0, 0, 0), (1, 0, 0), (1, 1, 0), (0, 1, 0)]"
      ]
     },
     "execution_count": 12,
     "metadata": {},
     "output_type": "execute_result"
    }
   ],
   "source": [
    "e.traverse_face(v=(0,0,0), w=(1,0,0))"
   ]
  },
  {
   "cell_type": "code",
   "execution_count": 46,
   "metadata": {},
   "outputs": [
    {
     "data": {
      "text/plain": [
       "False"
      ]
     },
     "execution_count": 46,
     "metadata": {},
     "output_type": "execute_result"
    }
   ],
   "source": [
    "v=(0,0,0)\n",
    "w=(1,0,0)\n",
    "sorted(e.traverse_face(v,w)) == sorted(e.traverse_face(w,v))"
   ]
  },
  {
   "cell_type": "code",
   "execution_count": 70,
   "metadata": {},
   "outputs": [
    {
     "name": "stdout",
     "output_type": "stream",
     "text": [
      "\n",
      "4 - before_nbs of (1, 0): [(0, 0), (1, 1)]\n",
      "edge: (((1, 0), (0, 1)), ((1, 0), (1, 1))) -- small_angle: pi/4, angle: pi/4\n",
      "edge: (((1, 0), (0, 1)), ((1, 0), (0, 0))) -- small_angle: pi/4, angle: pi/4\n",
      "edge: ((1, 0), (0, 1)), type: 4, curr_nbs: [(0, 0), (0, 1), (1, 1)]\n",
      "\n",
      "4 - before_nbs of (0, 1): [(1, 0), (0, 0)]\n",
      "edge: (((0, 1), (1, 1)), ((0, 1), (0, 0))) -- small_angle: pi/2, angle: pi/2\n",
      "edge: (((0, 1), (1, 1)), ((0, 1), (1, 0))) -- small_angle: pi/4, angle: pi/4\n",
      "edge: ((0, 1), (1, 1)), type: 4, curr_nbs: [(1, 1), (1, 0), (0, 0)]\n",
      "\n",
      "4 - before_nbs of (0, 1): [(1, 1), (1, 0), (0, 0)]\n",
      "edge: (((0, 1), (0, 2)), ((0, 1), (0, 0))) -- small_angle: 0, angle: pi\n",
      "edge: (((0, 1), (0, 2)), ((0, 1), (1, 0))) -- small_angle: pi/4, angle: 3*pi/4\n",
      "edge: (((0, 1), (0, 2)), ((0, 1), (1, 1))) -- small_angle: pi/2, angle: pi/2\n",
      "edge: ((0, 1), (0, 2)), type: 4, curr_nbs: [(0, 2), (1, 1), (1, 0), (0, 0)]\n",
      "\n",
      "4 - before_nbs of (0, 1): [(0, 2), (1, 1), (1, 0), (0, 0)]\n",
      "edge: (((0, 1), (1, 2)), ((0, 1), (0, 0))) -- small_angle: pi/4, angle: 3*pi/4\n",
      "edge: (((0, 1), (1, 2)), ((0, 1), (1, 0))) -- small_angle: pi/2, angle: pi/2\n",
      "edge: (((0, 1), (1, 2)), ((0, 1), (1, 1))) -- small_angle: pi/4, angle: pi/4\n",
      "edge: (((0, 1), (1, 2)), ((0, 1), (0, 2))) -- small_angle: pi/4, angle: pi/4\n",
      "edge: ((0, 1), (1, 2)), type: 4, curr_nbs: [(0, 2), (1, 2), (1, 1), (1, 0), (0, 0)]\n",
      "\n",
      "4 - before_nbs of (1, 1): [(1, 0), (0, 1)]\n",
      "edge: (((1, 1), (1, 2)), ((1, 1), (0, 1))) -- small_angle: pi/2, angle: pi/2\n",
      "edge: (((1, 1), (1, 2)), ((1, 1), (1, 0))) -- small_angle: 0, angle: pi\n",
      "edge: ((1, 1), (1, 2)), type: 4, curr_nbs: [(1, 0), (0, 1), (1, 2)]\n",
      "\n",
      "4 - before_nbs of (1, 2): [(1, 1), (0, 1)]\n",
      "edge: (((1, 2), (0, 2)), ((1, 2), (0, 1))) -- small_angle: pi/4, angle: pi/4\n",
      "edge: (((1, 2), (0, 2)), ((1, 2), (1, 1))) -- small_angle: pi/2, angle: pi/2\n",
      "edge: ((1, 2), (0, 2)), type: 4, curr_nbs: [(1, 1), (0, 1), (0, 2)]\n"
     ]
    },
    {
     "data": {
      "text/plain": [
       "<networkx.algorithms.planarity.PlanarEmbedding at 0x10edf38a0>"
      ]
     },
     "execution_count": 70,
     "metadata": {},
     "output_type": "execute_result"
    },
    {
     "data": {
      "image/png": "[encoded data removed]",
      "text/plain": [
       "<Figure size 640x480 with 1 Axes>"
      ]
     },
     "metadata": {},
     "output_type": "display_data"
    }
   ],
   "source": [
    "A = nx.triangular_lattice_graph(2,2)\n",
    "# pos = {i[0]:i[1][\"pos\"] for i in A.nodes(data=True)}\n",
    "pos = {i:i for i in A.nodes}\n",
    "nx.draw_networkx(A, pos)\n",
    "ea = create_embedding_simple(A, pos)\n",
    "ea"
   ]
  },
  {
   "cell_type": "code",
   "execution_count": 71,
   "metadata": {},
   "outputs": [],
   "source": [
    "ea.check_structure()"
   ]
  },
  {
   "cell_type": "code",
   "execution_count": null,
   "metadata": {},
   "outputs": [],
   "source": [
    "# assert that works.. test that faces are valid.. "
   ]
  },
  {
   "cell_type": "code",
   "execution_count": 14,
   "metadata": {},
   "outputs": [
    {
     "data": {
      "text/plain": [
       "{(0, 0): (0.0, 0.0),\n",
       " (1, 0): (1.0, 0.0),\n",
       " (2, 0): (2.0, 0.0),\n",
       " (0, 1): (0.5, 0.8660254037844386),\n",
       " (1, 1): (1.5, 0.8660254037844386),\n",
       " (2, 1): (2.5, 0.8660254037844386),\n",
       " (0, 2): (0.0, 1.7320508075688772),\n",
       " (1, 2): (1.0, 1.7320508075688772),\n",
       " (2, 2): (2.0, 1.7320508075688772),\n",
       " (0, 3): (0.5, 2.598076211353316),\n",
       " (1, 3): (1.5, 2.598076211353316),\n",
       " (2, 3): (2.5, 2.598076211353316)}"
      ]
     },
     "execution_count": 14,
     "metadata": {},
     "output_type": "execute_result"
    }
   ],
   "source": [
    "pos"
   ]
  },
  {
   "cell_type": "code",
   "execution_count": 84,
   "metadata": {},
   "outputs": [
    {
     "data": {
      "image/png": "[encoded data removed]",
      "text/plain": [
       "<Figure size 640x480 with 1 Axes>"
      ]
     },
     "metadata": {},
     "output_type": "display_data"
    }
   ],
   "source": [
    "A = nx.hexagonal_lattice_graph(3,4)\n",
    "pos = {i[0]:i[1][\"pos\"] for i in A.nodes(data=True)}\n",
    "nx.draw_networkx(A, pos)"
   ]
  }
 ],
 "metadata": {
  "kernelspec": {
   "display_name": ".venv",
   "language": "python",
   "name": "python3"
  },
  "language_info": {
   "codemirror_mode": {
    "name": "ipython",
    "version": 3
   },
   "file_extension": ".py",
   "mimetype": "text/x-python",
   "name": "python",
   "nbconvert_exporter": "python",
   "pygments_lexer": "ipython3",
   "version": "3.13.2"
  }
 },
 "nbformat": 4,
 "nbformat_minor": 2
}
