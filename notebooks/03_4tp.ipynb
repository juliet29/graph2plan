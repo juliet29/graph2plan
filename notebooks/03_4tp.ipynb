{
 "cells": [
  {
   "cell_type": "code",
   "execution_count": 1,
   "id": "d652178f",
   "metadata": {},
   "outputs": [
    {
     "name": "stderr",
     "output_type": "stream",
     "text": [
      "No traceback available to show.\n"
     ]
    }
   ],
   "source": [
    "%load_ext autoreload\n",
    "%autoreload 2\n",
    "%tb"
   ]
  },
  {
   "cell_type": "code",
   "execution_count": 3,
   "id": "7d6f5c1a",
   "metadata": {},
   "outputs": [],
   "source": [
    "import networkx as nx\n",
    "from graph2plan.fourtp.checks import draw_node_positioned_graph"
   ]
  },
  {
   "cell_type": "code",
   "execution_count": null,
   "id": "b82f10cb",
   "metadata": {},
   "outputs": [],
   "source": [
    "G, pos =  draw_node_positioned_graph(nx.triangular_lattice_graph(2, 3))"
   ]
  }
 ],
 "metadata": {
  "kernelspec": {
   "display_name": ".venv",
   "language": "python",
   "name": "python3"
  },
  "language_info": {
   "codemirror_mode": {
    "name": "ipython",
    "version": 3
   },
   "file_extension": ".py",
   "mimetype": "text/x-python",
   "name": "python",
   "nbconvert_exporter": "python",
   "pygments_lexer": "ipython3",
   "version": "3.13.2"
  }
 },
 "nbformat": 4,
 "nbformat_minor": 5
}
